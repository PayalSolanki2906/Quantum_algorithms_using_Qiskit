{
 "cells": [
  {
   "cell_type": "markdown",
   "id": "ba9c535d",
   "metadata": {},
   "source": [
    "# Phase kickback"
   ]
  },
  {
   "cell_type": "markdown",
   "id": "36236240",
   "metadata": {},
   "source": [
    "For understanding phase kickback, we consider an example as follows:\n",
    "\n",
    "CZ$|1+\\rangle=|1-\\rangle$\n",
    "\n",
    "When the control is $|+\\rangle$, and the target is $|1\\rangle$, the controlled-Z gate changes the state of the control qubit, but leaves the target qubit unchanged. This effect is called \"phase kickback\".\n",
    "\n"
   ]
  },
  {
   "cell_type": "markdown",
   "id": "9d7307a7",
   "metadata": {},
   "source": [
    "## Kickback effect via CX gate\n",
    "\n",
    "CX$|-\\rangle(\\alpha|0\\rangle+\\beta|1\\rangle)=|-\\rangle(\\alpha|0\\rangle-\\beta|1\\rangle)$"
   ]
  },
  {
   "cell_type": "markdown",
   "id": "609c1436",
   "metadata": {},
   "source": [
    "# Deutsch's problem"
   ]
  },
  {
   "cell_type": "markdown",
   "id": "83edb06a",
   "metadata": {},
   "source": [
    "For more information about this: https://learn.qiskit.org/course/ch-gates/phase-kickback"
   ]
  },
  {
   "cell_type": "markdown",
   "id": "e2d996e1",
   "metadata": {},
   "source": [
    "## Exercise"
   ]
  },
  {
   "cell_type": "markdown",
   "id": "ed62dfa8",
   "metadata": {},
   "source": [
    "Make a function, deutsch() that takes a Deutsch function as a QuantumCircuit and uses the Deutsch algorithm to solve it on a quantum simulator. Your function should return True if the Deutsch funciton is balanced, and False if it's constant.\n",
    "\n",
    "You can use the function deutsch_problem() to create a QuantumCircuit you can use as input to your deutsch() function."
   ]
  },
  {
   "cell_type": "code",
   "execution_count": 1,
   "id": "2d4ece83",
   "metadata": {},
   "outputs": [],
   "source": [
    "from qiskit import QuantumCircuit\n",
    "import numpy as np\n",
    "from qiskit import QuantumCircuit, assemble, Aer\n",
    "def deutsch_problem(seed=None):\n",
    "    \"\"\"Returns a circuit that carries out the function\n",
    "    from Deutsch's problem.\n",
    "    Args:\n",
    "        seed (int): If set, then returned circuit will\n",
    "            always be the same for the same seed.\n",
    "    Returns: QuantumCircuit\n",
    "    \"\"\"\n",
    "    np.random.seed(seed)\n",
    "    problem = QuantumCircuit(2)\n",
    "    if np.random.randint(2):\n",
    "        print(\"Function is balanced.\")\n",
    "        problem.cx(0, 1)\n",
    "    else:\n",
    "        print(\"Function is constant.\")\n",
    "        if np.random.randint(2):\n",
    "            problem.x(1)\n",
    "    return problem\n"
   ]
  },
  {
   "cell_type": "code",
   "execution_count": 2,
   "id": "0ef1e642",
   "metadata": {},
   "outputs": [],
   "source": [
    "def deutsch(problem):\n",
    "    \"\"\"Implements Deutsch's algorithm.\n",
    "\n",
    "    Args:\n",
    "        function (QuantumCircuit): Deutsch function to solve.\n",
    "            Must be a 2-qubit circuit, and either balanced,\n",
    "            or constant.\n",
    "    Returns:\n",
    "        bool: True if the circuit is balanced, otherwise False.\n",
    "    \"\"\"\n",
    "    qc=QuantumCircuit(2,1)\n",
    "    qc.x(1)\n",
    "    qc.h([0,1])\n",
    "    qc.draw()\n",
    "    qc.append(problem.to_gate(label='f'),[0,1])\n",
    "    qc.h(0)\n",
    "    qc.measure(0,0)\n",
    "    qc = qc.decompose('f')\n",
    "    display(qc.draw())\n",
    "    sim = Aer.get_backend('aer_simulator')\n",
    "    state = sim.run(qc).result().get_counts() # Execute the circuit and get the count\n",
    "    state=list(state.keys())[0] ## fetch the bit from the Dictionary  \n",
    "    if state=='1':\n",
    "        return('balanced')\n",
    "    if state=='0':\n",
    "        return('constant')\n",
    "\n",
    "\n",
    "    \n",
    "    \n"
   ]
  },
  {
   "cell_type": "code",
   "execution_count": 3,
   "id": "08788a4a",
   "metadata": {},
   "outputs": [
    {
     "name": "stdout",
     "output_type": "stream",
     "text": [
      "Function is constant.\n"
     ]
    },
    {
     "data": {
      "text/html": [
       "<pre style=\"word-wrap: normal;white-space: pre;background: #fff0;line-height: 1.1;font-family: &quot;Courier New&quot;,Courier,monospace\">     ┌───┐┌───┐     ┌─┐\n",
       "q_0: ┤ H ├┤ H ├─────┤M├\n",
       "     ├───┤├───┤┌───┐└╥┘\n",
       "q_1: ┤ X ├┤ H ├┤ X ├─╫─\n",
       "     └───┘└───┘└───┘ ║ \n",
       "c: 1/════════════════╩═\n",
       "                     0 </pre>"
      ],
      "text/plain": [
       "     ┌───┐┌───┐     ┌─┐\n",
       "q_0: ┤ H ├┤ H ├─────┤M├\n",
       "     ├───┤├───┤┌───┐└╥┘\n",
       "q_1: ┤ X ├┤ H ├┤ X ├─╫─\n",
       "     └───┘└───┘└───┘ ║ \n",
       "c: 1/════════════════╩═\n",
       "                     0 "
      ]
     },
     "metadata": {},
     "output_type": "display_data"
    },
    {
     "name": "stdout",
     "output_type": "stream",
     "text": [
      "constant\n"
     ]
    }
   ],
   "source": [
    "problem=deutsch_problem()\n",
    "print(deutsch(problem))"
   ]
  }
 ],
 "metadata": {
  "kernelspec": {
   "display_name": "Python 3 (ipykernel)",
   "language": "python",
   "name": "python3"
  },
  "language_info": {
   "codemirror_mode": {
    "name": "ipython",
    "version": 3
   },
   "file_extension": ".py",
   "mimetype": "text/x-python",
   "name": "python",
   "nbconvert_exporter": "python",
   "pygments_lexer": "ipython3",
   "version": "3.9.13"
  }
 },
 "nbformat": 4,
 "nbformat_minor": 5
}
