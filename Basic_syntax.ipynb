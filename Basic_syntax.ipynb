{
 "cells": [
  {
   "cell_type": "markdown",
   "id": "af5224d2",
   "metadata": {},
   "source": [
    "For constructing quantum circuits we have to import QuantumCiruit from qiskit"
   ]
  },
  {
   "cell_type": "code",
   "execution_count": 1,
   "id": "3cc8fd07",
   "metadata": {},
   "outputs": [],
   "source": [
    "from qiskit import QuantumCircuit\n",
    "qc=QuantumCircuit()"
   ]
  },
  {
   "cell_type": "markdown",
   "id": "15702501",
   "metadata": {},
   "source": [
    "For including register in the circuit"
   ]
  },
  {
   "cell_type": "code",
   "execution_count": 2,
   "id": "894208ac",
   "metadata": {},
   "outputs": [],
   "source": [
    "from qiskit import QuantumRegister\n",
    "qr = QuantumRegister(2,'a')"
   ]
  },
  {
   "cell_type": "markdown",
   "id": "4fda0fde",
   "metadata": {},
   "source": [
    "Now we add these register in the circuit as follows,"
   ]
  },
  {
   "cell_type": "code",
   "execution_count": 3,
   "id": "1a980d6b",
   "metadata": {},
   "outputs": [],
   "source": [
    "qc.add_register(qr)"
   ]
  },
  {
   "cell_type": "code",
   "execution_count": 4,
   "id": "0152e6d9",
   "metadata": {},
   "outputs": [
    {
     "data": {
      "text/plain": [
       "[QuantumRegister(2, 'a')]"
      ]
     },
     "execution_count": 4,
     "metadata": {},
     "output_type": "execute_result"
    }
   ],
   "source": [
    "qc.qregs   ## qc.qregs is for displaying"
   ]
  },
  {
   "cell_type": "code",
   "execution_count": 5,
   "id": "b8432829",
   "metadata": {},
   "outputs": [
    {
     "data": {
      "text/html": [
       "<pre style=\"word-wrap: normal;white-space: pre;background: #fff0;line-height: 1.1;font-family: &quot;Courier New&quot;,Courier,monospace\">     \n",
       "a_0: \n",
       "     \n",
       "a_1: \n",
       "     </pre>"
      ],
      "text/plain": [
       "     \n",
       "a_0: \n",
       "     \n",
       "a_1: \n",
       "     "
      ]
     },
     "execution_count": 5,
     "metadata": {},
     "output_type": "execute_result"
    }
   ],
   "source": [
    "qc.draw()"
   ]
  },
  {
   "cell_type": "markdown",
   "id": "b3c89136",
   "metadata": {},
   "source": [
    "Now we apply gates on the cicuit"
   ]
  },
  {
   "cell_type": "code",
   "execution_count": 6,
   "id": "318003d7",
   "metadata": {},
   "outputs": [
    {
     "data": {
      "text/plain": [
       "<qiskit.circuit.instructionset.InstructionSet at 0x7fc5c2de8f10>"
      ]
     },
     "execution_count": 6,
     "metadata": {},
     "output_type": "execute_result"
    }
   ],
   "source": [
    "qc.h(qr[0])   ## applying Hadamard gate on the first qubit\n"
   ]
  },
  {
   "cell_type": "code",
   "execution_count": 7,
   "id": "1d20d13b",
   "metadata": {},
   "outputs": [
    {
     "data": {
      "text/html": [
       "<pre style=\"word-wrap: normal;white-space: pre;background: #fff0;line-height: 1.1;font-family: &quot;Courier New&quot;,Courier,monospace\">     ┌───┐\n",
       "a_0: ┤ H ├\n",
       "     └───┘\n",
       "a_1: ─────\n",
       "          </pre>"
      ],
      "text/plain": [
       "     ┌───┐\n",
       "a_0: ┤ H ├\n",
       "     └───┘\n",
       "a_1: ─────\n",
       "          "
      ]
     },
     "execution_count": 7,
     "metadata": {},
     "output_type": "execute_result"
    }
   ],
   "source": [
    "qc.draw()"
   ]
  },
  {
   "cell_type": "code",
   "execution_count": null,
   "id": "386c82db",
   "metadata": {},
   "outputs": [],
   "source": [
    "#qc.x(qr[0]) ## applying Hadamard gate on the first qubit\n",
    "#qc.draw()"
   ]
  },
  {
   "cell_type": "code",
   "execution_count": 8,
   "id": "2a88e57f",
   "metadata": {},
   "outputs": [
    {
     "data": {
      "text/html": [
       "<pre style=\"word-wrap: normal;white-space: pre;background: #fff0;line-height: 1.1;font-family: &quot;Courier New&quot;,Courier,monospace\">     ┌───┐┌───┐\n",
       "a_0: ┤ H ├┤ X ├\n",
       "     └───┘└─┬─┘\n",
       "a_1: ───────■──\n",
       "               </pre>"
      ],
      "text/plain": [
       "     ┌───┐┌───┐\n",
       "a_0: ┤ H ├┤ X ├\n",
       "     └───┘└─┬─┘\n",
       "a_1: ───────■──\n",
       "               "
      ]
     },
     "execution_count": 8,
     "metadata": {},
     "output_type": "execute_result"
    }
   ],
   "source": [
    "qc.cx(qr[1], qr[0])\n",
    "qc.draw()"
   ]
  },
  {
   "cell_type": "code",
   "execution_count": 10,
   "id": "701b5a8c",
   "metadata": {},
   "outputs": [],
   "source": [
    "from qiskit import Aer\n",
    "sv_sim = Aer.get_backend('aer_simulator')    ##it is simulator for showing output"
   ]
  },
  {
   "cell_type": "code",
   "execution_count": 11,
   "id": "33806d83",
   "metadata": {},
   "outputs": [
    {
     "name": "stdout",
     "output_type": "stream",
     "text": [
      "aer_simulator\n",
      "aer_simulator_statevector\n",
      "aer_simulator_density_matrix\n",
      "aer_simulator_stabilizer\n",
      "aer_simulator_matrix_product_state\n",
      "aer_simulator_extended_stabilizer\n",
      "aer_simulator_unitary\n",
      "aer_simulator_superop\n",
      "qasm_simulator\n",
      "statevector_simulator\n",
      "unitary_simulator\n",
      "pulse_simulator\n"
     ]
    }
   ],
   "source": [
    "for backend in Aer.backends():     \n",
    "    print(backend)"
   ]
  },
  {
   "cell_type": "code",
   "execution_count": 12,
   "id": "e4f68b37",
   "metadata": {},
   "outputs": [],
   "source": [
    "from qiskit import assemble\n",
    "qc.save_statevector()         ## this converts output in to state vector\n",
    "qobj = assemble(qc)           ## this assembles quantum circuit\n",
    "job = sv_sim.run(qobj)         ## this is for running the job"
   ]
  },
  {
   "cell_type": "code",
   "execution_count": 13,
   "id": "18cc074a",
   "metadata": {},
   "outputs": [
    {
     "name": "stdout",
     "output_type": "stream",
     "text": [
      "(0.7071067811865476+0j)\n",
      "(0.7071067811865475+0j)\n",
      "0j\n",
      "0j\n"
     ]
    },
    {
     "name": "stderr",
     "output_type": "stream",
     "text": [
      "/tmp/ipykernel_28880/1647773364.py:2: DeprecationWarning: The return type of saved statevectors has been changed from a `numpy.ndarray` to a `qiskit.quantum_info.Statevector` as of qiskit-aer 0.10. Accessing numpy array attributes is deprecated and will result in an error in a future release. To continue using saved result objects as arrays you can explicitly cast them using  `np.asarray(object)`.\n",
      "  for amplitude in ket:\n"
     ]
    }
   ],
   "source": [
    "ket = job.result().get_statevector()\n",
    "for amplitude in ket:\n",
    "    print(amplitude)"
   ]
  },
  {
   "cell_type": "code",
   "execution_count": 14,
   "id": "85b8d3da",
   "metadata": {},
   "outputs": [
    {
     "data": {
      "text/plain": [
       "<qiskit.circuit.instructionset.InstructionSet at 0x7fc5830ec6d0>"
      ]
     },
     "execution_count": 14,
     "metadata": {},
     "output_type": "execute_result"
    }
   ],
   "source": [
    "new_qc = QuantumCircuit(qr)\n",
    "\n",
    "new_qc.initialize(ket, qr)"
   ]
  },
  {
   "cell_type": "code",
   "execution_count": 15,
   "id": "e9faa073",
   "metadata": {},
   "outputs": [
    {
     "data": {
      "text/plain": [
       "<qiskit.circuit.instructionset.InstructionSet at 0x7fc5c056e760>"
      ]
     },
     "execution_count": 15,
     "metadata": {},
     "output_type": "execute_result"
    }
   ],
   "source": [
    "new_qc.x(qr[0]) "
   ]
  },
  {
   "cell_type": "code",
   "execution_count": 16,
   "id": "42ffd3d8",
   "metadata": {},
   "outputs": [
    {
     "name": "stdout",
     "output_type": "stream",
     "text": [
      "(0.7071067811865475+0j)\n",
      "(0.7071067811865476+0j)\n",
      "0j\n",
      "0j\n"
     ]
    },
    {
     "name": "stderr",
     "output_type": "stream",
     "text": [
      "/tmp/ipykernel_28880/3308903925.py:6: DeprecationWarning: The return type of saved statevectors has been changed from a `numpy.ndarray` to a `qiskit.quantum_info.Statevector` as of qiskit-aer 0.10. Accessing numpy array attributes is deprecated and will result in an error in a future release. To continue using saved result objects as arrays you can explicitly cast them using  `np.asarray(object)`.\n",
      "  for amplitude in ket:\n"
     ]
    }
   ],
   "source": [
    "from qiskit import assemble\n",
    "new_qc.save_statevector()         ## this converts output in to state vector\n",
    "qobj = assemble(new_qc)           ## this assembles quantum circuit\n",
    "job = sv_sim.run(qobj) \n",
    "ket = job.result().get_statevector()\n",
    "for amplitude in ket:\n",
    "    print(amplitude)"
   ]
  },
  {
   "cell_type": "markdown",
   "id": "b0aeb08f",
   "metadata": {},
   "source": [
    "Note that quantum register is for doing quantum operations and we have to use classical register for measuring the qubits."
   ]
  },
  {
   "cell_type": "code",
   "execution_count": 17,
   "id": "84f2f9b8",
   "metadata": {},
   "outputs": [],
   "source": [
    "from qiskit import ClassicalRegister\n",
    "cr = ClassicalRegister(2,'creg')\n",
    "\n",
    "qc.add_register(cr)"
   ]
  },
  {
   "cell_type": "code",
   "execution_count": 18,
   "id": "795897a2",
   "metadata": {},
   "outputs": [
    {
     "data": {
      "text/html": [
       "<pre style=\"word-wrap: normal;white-space: pre;background: #fff0;line-height: 1.1;font-family: &quot;Courier New&quot;,Courier,monospace\">        ┌───┐┌───┐ statevector ┌─┐   \n",
       "   a_0: ┤ H ├┤ X ├──────░──────┤M├───\n",
       "        └───┘└─┬─┘      ░      └╥┘┌─┐\n",
       "   a_1: ───────■────────░───────╫─┤M├\n",
       "                        ░       ║ └╥┘\n",
       "creg: 2/════════════════════════╩══╩═\n",
       "                                0  1 </pre>"
      ],
      "text/plain": [
       "        ┌───┐┌───┐ statevector ┌─┐   \n",
       "   a_0: ┤ H ├┤ X ├──────░──────┤M├───\n",
       "        └───┘└─┬─┘      ░      └╥┘┌─┐\n",
       "   a_1: ───────■────────░───────╫─┤M├\n",
       "                        ░       ║ └╥┘\n",
       "creg: 2/════════════════════════╩══╩═\n",
       "                                0  1 "
      ]
     },
     "execution_count": 18,
     "metadata": {},
     "output_type": "execute_result"
    }
   ],
   "source": [
    "qc.measure(qr[0],cr[0])     ##measuring first quibit on first classical register\n",
    "qc.measure(qr[1],cr[1])    ##measuring second quibit on second classical register\n",
    "\n",
    "qc.draw()"
   ]
  },
  {
   "cell_type": "code",
   "execution_count": 19,
   "id": "6376c754",
   "metadata": {},
   "outputs": [],
   "source": [
    "aer_sim = Aer.get_backend('aer_simulator')\n",
    "qobj = assemble(qc, shots=100)      ##shots is the number of experiments\n",
    "job = aer_sim.run(qobj, memory=True)                ##.run is for running the experiments"
   ]
  },
  {
   "cell_type": "code",
   "execution_count": 20,
   "id": "23dc4241",
   "metadata": {},
   "outputs": [
    {
     "name": "stdout",
     "output_type": "stream",
     "text": [
      "{'00': 43, '01': 57}\n"
     ]
    }
   ],
   "source": [
    "hist = job.result().get_counts()\n",
    "print(hist)"
   ]
  },
  {
   "cell_type": "code",
   "execution_count": 21,
   "id": "6a035db9",
   "metadata": {},
   "outputs": [
    {
     "data": {
      "image/png": "[encoded data removed]",
      "text/plain": [
       "<Figure size 700x500 with 1 Axes>"
      ]
     },
     "execution_count": 21,
     "metadata": {},
     "output_type": "execute_result"
    }
   ],
   "source": [
    "from qiskit.visualization import plot_histogram\n",
    "\n",
    "plot_histogram(hist)"
   ]
  },
  {
   "cell_type": "code",
   "execution_count": 22,
   "id": "188e2200",
   "metadata": {},
   "outputs": [
    {
     "name": "stdout",
     "output_type": "stream",
     "text": [
      "['01', '00', '01', '01', '00', '00', '01', '01', '01', '01', '00', '01', '00', '00', '01', '01', '00', '00', '00', '00', '01', '01', '01', '01', '01', '01', '00', '00', '00', '00', '00', '01', '01', '01', '01', '00', '01', '01', '00', '00', '00', '00', '00', '01', '01', '01', '00', '01', '01', '01', '00', '01', '00', '01', '00', '00', '00', '01', '01', '01', '01', '01', '01', '00', '01', '01', '00', '01', '01', '00', '00', '01', '00', '01', '01', '00', '01', '01', '00', '01', '01', '00', '00', '01', '00', '00', '01', '01', '00', '00', '01', '01', '01', '01', '00', '01', '01', '00', '00', '01']\n"
     ]
    }
   ],
   "source": [
    "samples = job.result().get_memory()    #to get result of each experiment as a result\n",
    "print(samples)"
   ]
  },
  {
   "cell_type": "markdown",
   "id": "71af370a",
   "metadata": {},
   "source": [
    "Note that the bits are labelled from right to left. So cr[0] is the one to the furthest right, and so on. As an example of this, here's an 8 qubit circuit with a Pauli  on only the qubit numbered 7, which has its output stored to the bit numbered 7."
   ]
  },
  {
   "cell_type": "code",
   "execution_count": 23,
   "id": "c887fcf4",
   "metadata": {},
   "outputs": [
    {
     "data": {
      "text/plain": [
       "{'10000000': 8192}"
      ]
     },
     "execution_count": 23,
     "metadata": {},
     "output_type": "execute_result"
    }
   ],
   "source": [
    "qubit = QuantumRegister(8)\n",
    "bit = ClassicalRegister(8)\n",
    "qc_2 = QuantumCircuit(qubit,bit)\n",
    "\n",
    "qc_2.x(qubit[7])\n",
    "qc_2.measure(qubit,bit) # this is a way to do all the qc.measure(qr8[j],cr8[j]) at once\n",
    "\n",
    "qobj = assemble(qc_2, shots=8192)\n",
    "aer_sim.run(qobj).result().get_counts()"
   ]
  },
  {
   "cell_type": "markdown",
   "id": "375edb9c",
   "metadata": {},
   "source": [
    "If we need more than one quantum register and classical register in the circuit then we can do as follows,"
   ]
  },
  {
   "cell_type": "code",
   "execution_count": 24,
   "id": "1ab9e03c",
   "metadata": {},
   "outputs": [],
   "source": [
    "qc = QuantumCircuit(2,1)     ## where first arguments is corresponding to number of quantum regsiter and second\n",
    "                             ##argument is corresponding to the number of classical register."
   ]
  },
  {
   "cell_type": "code",
   "execution_count": 25,
   "id": "bba2462f",
   "metadata": {},
   "outputs": [
    {
     "data": {
      "text/html": [
       "<pre style=\"word-wrap: normal;white-space: pre;background: #fff0;line-height: 1.1;font-family: &quot;Courier New&quot;,Courier,monospace\">     ┌───┐        \n",
       "q_0: ┤ H ├──■─────\n",
       "     └───┘┌─┴─┐┌─┐\n",
       "q_1: ─────┤ X ├┤M├\n",
       "          └───┘└╥┘\n",
       "c: 1/═══════════╩═\n",
       "                0 </pre>"
      ],
      "text/plain": [
       "     ┌───┐        \n",
       "q_0: ┤ H ├──■─────\n",
       "     └───┘┌─┴─┐┌─┐\n",
       "q_1: ─────┤ X ├┤M├\n",
       "          └───┘└╥┘\n",
       "c: 1/═══════════╩═\n",
       "                0 "
      ]
     },
     "execution_count": 25,
     "metadata": {},
     "output_type": "execute_result"
    }
   ],
   "source": [
    "qc.h(0)\n",
    "qc.cx(0,1)\n",
    "qc.measure(1,0)\n",
    "\n",
    "qc.draw()"
   ]
  },
  {
   "cell_type": "markdown",
   "id": "fd18a414",
   "metadata": {},
   "source": [
    "## Creating custom gates\n"
   ]
  },
  {
   "cell_type": "markdown",
   "id": "1f697a26",
   "metadata": {},
   "source": [
    "Custom gates works as function or subroutine, we construct the subcircuit and we can use that part of the circuit\n",
    "whenever we need it."
   ]
  },
  {
   "cell_type": "code",
   "execution_count": 26,
   "id": "ae880650",
   "metadata": {},
   "outputs": [
    {
     "data": {
      "text/html": [
       "<pre style=\"word-wrap: normal;white-space: pre;background: #fff0;line-height: 1.1;font-family: &quot;Courier New&quot;,Courier,monospace\">                         \n",
       "q_0: ──■─────────■───────\n",
       "     ┌─┴─┐     ┌─┴─┐     \n",
       "q_1: ┤ X ├──■──┤ X ├──■──\n",
       "     └───┘┌─┴─┐└───┘┌─┴─┐\n",
       "q_2: ─────┤ X ├─────┤ X ├\n",
       "          └───┘     └───┘</pre>"
      ],
      "text/plain": [
       "                         \n",
       "q_0: ──■─────────■───────\n",
       "     ┌─┴─┐     ┌─┴─┐     \n",
       "q_1: ┤ X ├──■──┤ X ├──■──\n",
       "     └───┘┌─┴─┐└───┘┌─┴─┐\n",
       "q_2: ─────┤ X ├─────┤ X ├\n",
       "          └───┘     └───┘"
      ]
     },
     "execution_count": 26,
     "metadata": {},
     "output_type": "execute_result"
    }
   ],
   "source": [
    "sub_circuit = QuantumCircuit(3, name='toggle_cx')\n",
    "sub_circuit.cx(0,1)\n",
    "sub_circuit.cx(1,2)\n",
    "sub_circuit.cx(0,1)\n",
    "sub_circuit.cx(1,2)\n",
    "\n",
    "sub_circuit.draw()"
   ]
  },
  {
   "cell_type": "code",
   "execution_count": 27,
   "id": "b39feb49",
   "metadata": {},
   "outputs": [],
   "source": [
    "toggle_cx = sub_circuit.to_instruction()   ##we convert this circuit to the custom gate"
   ]
  },
  {
   "cell_type": "code",
   "execution_count": 28,
   "id": "b19b8aad",
   "metadata": {},
   "outputs": [
    {
     "data": {
      "text/html": [
       "<pre style=\"word-wrap: normal;white-space: pre;background: #fff0;line-height: 1.1;font-family: &quot;Courier New&quot;,Courier,monospace\">                    \n",
       "q1_0: ──────────────\n",
       "      ┌────────────┐\n",
       "q1_1: ┤0           ├\n",
       "      │            │\n",
       "q1_2: ┤1 toggle_cx ├\n",
       "      │            │\n",
       "q1_3: ┤2           ├\n",
       "      └────────────┘</pre>"
      ],
      "text/plain": [
       "                    \n",
       "q1_0: ──────────────\n",
       "      ┌────────────┐\n",
       "q1_1: ┤0           ├\n",
       "      │            │\n",
       "q1_2: ┤1 toggle_cx ├\n",
       "      │            │\n",
       "q1_3: ┤2           ├\n",
       "      └────────────┘"
      ]
     },
     "execution_count": 28,
     "metadata": {},
     "output_type": "execute_result"
    }
   ],
   "source": [
    "qr = QuantumRegister(4)\n",
    "new_qc = QuantumCircuit(qr)\n",
    "\n",
    "new_qc.append(toggle_cx, [qr[1],qr[2],qr[3] ])\n",
    "\n",
    "new_qc.draw()"
   ]
  },
  {
   "cell_type": "code",
   "execution_count": 11,
   "id": "4af6fb4b",
   "metadata": {},
   "outputs": [],
   "source": []
  }
 ],
 "metadata": {
  "kernelspec": {
   "display_name": "Python 3 (ipykernel)",
   "language": "python",
   "name": "python3"
  },
  "language_info": {
   "codemirror_mode": {
    "name": "ipython",
    "version": 3
   },
   "file_extension": ".py",
   "mimetype": "text/x-python",
   "name": "python",
   "nbconvert_exporter": "python",
   "pygments_lexer": "ipython3",
   "version": "3.9.13"
  }
 },
 "nbformat": 4,
 "nbformat_minor": 5
}
