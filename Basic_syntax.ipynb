{
 "cells": [
  {
   "cell_type": "markdown",
   "id": "af5224d2",
   "metadata": {},
   "source": [
    "For constructing quantum circuits we have to import QuantumCiruit from qiskit"
   ]
  },
  {
   "cell_type": "code",
   "execution_count": null,
   "id": "3cc8fd07",
   "metadata": {},
   "outputs": [],
   "source": [
    "from qiskit import QuantumCircuit\n",
    "qc=QuantumCircuit()"
   ]
  },
  {
   "cell_type": "markdown",
   "id": "15702501",
   "metadata": {},
   "source": [
    "For including register in the circuit"
   ]
  },
  {
   "cell_type": "code",
   "execution_count": null,
   "id": "894208ac",
   "metadata": {},
   "outputs": [],
   "source": [
    "from qiskit import QuantumRegister\n",
    "qr = QuantumRegister(2,'a')"
   ]
  },
  {
   "cell_type": "markdown",
   "id": "4fda0fde",
   "metadata": {},
   "source": [
    "Now we add these register in the circuit as follows,"
   ]
  },
  {
   "cell_type": "code",
   "execution_count": null,
   "id": "1a980d6b",
   "metadata": {},
   "outputs": [],
   "source": [
    "qc.add_register(qr)"
   ]
  },
  {
   "cell_type": "code",
   "execution_count": null,
   "id": "0152e6d9",
   "metadata": {},
   "outputs": [],
   "source": [
    "qc.qregs   ## qc.qregs is for displaying"
   ]
  },
  {
   "cell_type": "code",
   "execution_count": null,
   "id": "b8432829",
   "metadata": {},
   "outputs": [],
   "source": [
    "qc.draw()"
   ]
  },
  {
   "cell_type": "markdown",
   "id": "b3c89136",
   "metadata": {},
   "source": [
    "Now we apply gates on the cicuit"
   ]
  },
  {
   "cell_type": "code",
   "execution_count": null,
   "id": "318003d7",
   "metadata": {},
   "outputs": [],
   "source": [
    "qc.h(qr[0])   ## applying Hadamard gate on the first qubit\n"
   ]
  },
  {
   "cell_type": "code",
   "execution_count": null,
   "id": "1d20d13b",
   "metadata": {},
   "outputs": [],
   "source": [
    "#qc.draw()"
   ]
  },
  {
   "cell_type": "code",
   "execution_count": null,
   "id": "386c82db",
   "metadata": {},
   "outputs": [],
   "source": [
    "#qc.x(qr[0]) ## applying Hadamard gate on the first qubit\n",
    "#qc.draw()"
   ]
  },
  {
   "cell_type": "code",
   "execution_count": null,
   "id": "2a88e57f",
   "metadata": {},
   "outputs": [],
   "source": [
    "qc.cx(qr[1], qr[0])\n",
    "qc.draw()"
   ]
  },
  {
   "cell_type": "code",
   "execution_count": null,
   "id": "701b5a8c",
   "metadata": {},
   "outputs": [],
   "source": [
    "from qiskit import Aer\n",
    "sv_sim = Aer.get_backend('aer_simulator')    ##it is simulator for showing output"
   ]
  },
  {
   "cell_type": "code",
   "execution_count": null,
   "id": "33806d83",
   "metadata": {},
   "outputs": [],
   "source": [
    "for backend in Aer.backends():     \n",
    "    print(backend)"
   ]
  },
  {
   "cell_type": "code",
   "execution_count": null,
   "id": "e4f68b37",
   "metadata": {},
   "outputs": [],
   "source": [
    "from qiskit import assemble\n",
    "qc.save_statevector()         ## this converts output in to state vector\n",
    "qobj = assemble(qc)           ## this assembles quantum circuit\n",
    "job = sv_sim.run(qobj)         ## this is for running the job"
   ]
  },
  {
   "cell_type": "code",
   "execution_count": null,
   "id": "18cc074a",
   "metadata": {},
   "outputs": [],
   "source": [
    "ket = job.result().get_statevector()\n",
    "for amplitude in ket:\n",
    "    print(amplitude)"
   ]
  },
  {
   "cell_type": "code",
   "execution_count": null,
   "id": "85b8d3da",
   "metadata": {},
   "outputs": [],
   "source": [
    "new_qc = QuantumCircuit(qr)\n",
    "\n",
    "new_qc.initialize(ket, qr)"
   ]
  },
  {
   "cell_type": "code",
   "execution_count": null,
   "id": "e9faa073",
   "metadata": {},
   "outputs": [],
   "source": [
    "new_qc.x(qr[0]) "
   ]
  },
  {
   "cell_type": "code",
   "execution_count": null,
   "id": "42ffd3d8",
   "metadata": {},
   "outputs": [],
   "source": [
    "from qiskit import assemble\n",
    "new_qc.save_statevector()         ## this converts output in to state vector\n",
    "qobj = assemble(new_qc)           ## this assembles quantum circuit\n",
    "job = sv_sim.run(qobj) \n",
    "ket = job.result().get_statevector()\n",
    "for amplitude in ket:\n",
    "    print(amplitude)"
   ]
  },
  {
   "cell_type": "markdown",
   "id": "b0aeb08f",
   "metadata": {},
   "source": [
    "Note that quantum register is for doing quantum operations and we have to use classical register for measuring the qubits."
   ]
  },
  {
   "cell_type": "code",
   "execution_count": null,
   "id": "84f2f9b8",
   "metadata": {},
   "outputs": [],
   "source": [
    "from qiskit import ClassicalRegister\n",
    "cr = ClassicalRegister(2,'creg')\n",
    "\n",
    "qc.add_register(cr)"
   ]
  },
  {
   "cell_type": "code",
   "execution_count": null,
   "id": "795897a2",
   "metadata": {},
   "outputs": [],
   "source": [
    "qc.measure(qr[0],cr[0])     ##measuring first quibit on first classical register\n",
    "qc.measure(qr[1],cr[1])    ##measuring second quibit on second classical register\n",
    "\n",
    "qc.draw()"
   ]
  },
  {
   "cell_type": "code",
   "execution_count": null,
   "id": "6376c754",
   "metadata": {},
   "outputs": [],
   "source": [
    "aer_sim = Aer.get_backend('aer_simulator')\n",
    "qobj = assemble(qc, shots=100)      ##shots is the number of experiments\n",
    "job = aer_sim.run(qobj, memory=True)                ##.run is for running the experiments"
   ]
  },
  {
   "cell_type": "code",
   "execution_count": null,
   "id": "23dc4241",
   "metadata": {},
   "outputs": [],
   "source": [
    "hist = job.result().get_counts()\n",
    "print(hist)"
   ]
  },
  {
   "cell_type": "code",
   "execution_count": null,
   "id": "6a035db9",
   "metadata": {},
   "outputs": [],
   "source": [
    "from qiskit.visualization import plot_histogram\n",
    "\n",
    "plot_histogram(hist)"
   ]
  },
  {
   "cell_type": "code",
   "execution_count": null,
   "id": "188e2200",
   "metadata": {},
   "outputs": [],
   "source": [
    "samples = job.result().get_memory()    #to get result of each experiment as a result\n",
    "print(samples)"
   ]
  },
  {
   "cell_type": "markdown",
   "id": "71af370a",
   "metadata": {},
   "source": [
    "Note that the bits are labelled from right to left. So cr[0] is the one to the furthest right, and so on. As an example of this, here's an 8 qubit circuit with a Pauli  on only the qubit numbered 7, which has its output stored to the bit numbered 7."
   ]
  },
  {
   "cell_type": "code",
   "execution_count": null,
   "id": "c887fcf4",
   "metadata": {},
   "outputs": [],
   "source": [
    "qubit = QuantumRegister(8)\n",
    "bit = ClassicalRegister(8)\n",
    "qc_2 = QuantumCircuit(qubit,bit)\n",
    "\n",
    "qc_2.x(qubit[7])\n",
    "qc_2.measure(qubit,bit) # this is a way to do all the qc.measure(qr8[j],cr8[j]) at once\n",
    "\n",
    "qobj = assemble(qc_2, shots=8192)\n",
    "aer_sim.run(qobj).result().get_counts()"
   ]
  },
  {
   "cell_type": "markdown",
   "id": "375edb9c",
   "metadata": {},
   "source": [
    "If we need more than one quantum register and classical register in the circuit then we can do as follows,"
   ]
  },
  {
   "cell_type": "code",
   "execution_count": null,
   "id": "1ab9e03c",
   "metadata": {},
   "outputs": [],
   "source": [
    "qc = QuantumCircuit(2,1)     ## where first arguments is corresponding to number of quantum regsiter and second\n",
    "                             ##argument is corresponding to the number of classical register."
   ]
  },
  {
   "cell_type": "code",
   "execution_count": null,
   "id": "bba2462f",
   "metadata": {},
   "outputs": [],
   "source": [
    "qc.h(0)\n",
    "qc.cx(0,1)\n",
    "qc.measure(1,0)\n",
    "\n",
    "qc.draw()"
   ]
  },
  {
   "cell_type": "markdown",
   "id": "fd18a414",
   "metadata": {},
   "source": [
    "## Creating custom gates\n"
   ]
  },
  {
   "cell_type": "markdown",
   "id": "1f697a26",
   "metadata": {},
   "source": [
    "Custom gates works as function or subroutine, we construct the subcircuit and we can use that part of the circuit\n",
    "whenever we need it."
   ]
  },
  {
   "cell_type": "code",
   "execution_count": null,
   "id": "ae880650",
   "metadata": {},
   "outputs": [],
   "source": [
    "sub_circuit = QuantumCircuit(3, name='toggle_cx')\n",
    "sub_circuit.cx(0,1)\n",
    "sub_circuit.cx(1,2)\n",
    "sub_circuit.cx(0,1)\n",
    "sub_circuit.cx(1,2)\n",
    "\n",
    "sub_circuit.draw()"
   ]
  },
  {
   "cell_type": "code",
   "execution_count": null,
   "id": "b39feb49",
   "metadata": {},
   "outputs": [],
   "source": [
    "toggle_cx = sub_circuit.to_instruction()   ##we convert this circuit to the custom gate"
   ]
  },
  {
   "cell_type": "code",
   "execution_count": null,
   "id": "b19b8aad",
   "metadata": {},
   "outputs": [],
   "source": [
    "qr = QuantumRegister(4)\n",
    "new_qc = QuantumCircuit(qr)\n",
    "\n",
    "new_qc.append(toggle_cx, [qr[1],qr[2],qr[3] ])\n",
    "\n",
    "new_qc.draw()"
   ]
  },
  {
   "cell_type": "code",
   "execution_count": 11,
   "id": "4af6fb4b",
   "metadata": {},
   "outputs": [],
   "source": [
    "from qiskit import QuantumCircuit\n",
    "import numpy as np\n",
    "\n",
    "def deutsch_problem():\n",
    "    \"\"\"Returns a circuit that carries out the function\n",
    "    from Deutsch's problem.\n",
    "    Args:\n",
    "        seed (int): If set, then returned circuit will\n",
    "            always be the same for the same seed.\n",
    "    Returns: QuantumCircuit\n",
    "    \"\"\"\n",
    "    problem = QuantumCircuit(2)\n",
    "    if np.random.randint(2):\n",
    "        print(\"Function is balanced.\")\n",
    "        problem.cx(0, 1)\n",
    "    else:\n",
    "        print(\"Function is constant.\")\n",
    "    if np.random.randint(2):\n",
    "        problem.x(1)\n",
    "    return problem"
   ]
  },
  {
   "cell_type": "code",
   "execution_count": 25,
   "id": "d8d9ea1f",
   "metadata": {},
   "outputs": [
    {
     "name": "stdout",
     "output_type": "stream",
     "text": [
      "Function is balanced.\n"
     ]
    }
   ],
   "source": [
    "def deutsch(function):\n",
    "    \"\"\"Implements Deutsch's algorithm.\n",
    "\n",
    "    Args:\n",
    "        function (QuantumCircuit): Deutsch function to solve.\n",
    "            Must be a 2-qubit circuit, and either balanced,\n",
    "            or constant.\n",
    "    Returns:\n",
    "        bool: True if the circuit is balanced, otherwise False.\n",
    "    \"\"\"\n",
    "\n",
    "    # your code here\n",
    "    f=True\n",
    "    qc=QuantumCircuit(2)\n",
    "    qc.x(1)\n",
    "    #qc.draw()\n",
    "    return (f)\n",
    "problem=deutsch_problem()\n",
    "#problem.draw()\n"
   ]
  },
  {
   "cell_type": "code",
   "execution_count": 34,
   "id": "74d139dc",
   "metadata": {},
   "outputs": [
    {
     "name": "stderr",
     "output_type": "stream",
     "text": [
      "Simulation failed and returned the following error message:\n",
      "ERROR: Failed to load qobj: Duplicate key \"statevector\" in save instruction.\n"
     ]
    },
    {
     "ename": "QiskitError",
     "evalue": "'You have to select a circuit or schedule when there is more than one available'",
     "output_type": "error",
     "traceback": [
      "\u001b[0;31m---------------------------------------------------------------------------\u001b[0m",
      "\u001b[0;31mQiskitError\u001b[0m                               Traceback (most recent call last)",
      "\u001b[0;32m/tmp/ipykernel_20931/2627112921.py\u001b[0m in \u001b[0;36m<module>\u001b[0;34m\u001b[0m\n\u001b[1;32m     24\u001b[0m \u001b[0mqobj\u001b[0m \u001b[0;34m=\u001b[0m \u001b[0massemble\u001b[0m\u001b[0;34m(\u001b[0m\u001b[0mproblem\u001b[0m\u001b[0;34m)\u001b[0m\u001b[0;34m\u001b[0m\u001b[0;34m\u001b[0m\u001b[0m\n\u001b[1;32m     25\u001b[0m \u001b[0mjob\u001b[0m \u001b[0;34m=\u001b[0m \u001b[0msv_sim\u001b[0m\u001b[0;34m.\u001b[0m\u001b[0mrun\u001b[0m\u001b[0;34m(\u001b[0m\u001b[0mqobj\u001b[0m\u001b[0;34m)\u001b[0m\u001b[0;34m\u001b[0m\u001b[0;34m\u001b[0m\u001b[0m\n\u001b[0;32m---> 26\u001b[0;31m \u001b[0mket1\u001b[0m \u001b[0;34m=\u001b[0m \u001b[0mjob\u001b[0m\u001b[0;34m.\u001b[0m\u001b[0mresult\u001b[0m\u001b[0;34m(\u001b[0m\u001b[0;34m)\u001b[0m\u001b[0;34m.\u001b[0m\u001b[0mget_statevector\u001b[0m\u001b[0;34m(\u001b[0m\u001b[0;34m)\u001b[0m\u001b[0;34m\u001b[0m\u001b[0;34m\u001b[0m\u001b[0m\n\u001b[0m\u001b[1;32m     27\u001b[0m \u001b[0mqc1\u001b[0m\u001b[0;34m=\u001b[0m\u001b[0mQuantumCircuit\u001b[0m\u001b[0;34m(\u001b[0m\u001b[0mqr\u001b[0m\u001b[0;34m)\u001b[0m\u001b[0;34m\u001b[0m\u001b[0;34m\u001b[0m\u001b[0m\n\u001b[1;32m     28\u001b[0m \u001b[0mqc1\u001b[0m\u001b[0;34m.\u001b[0m\u001b[0minitialize\u001b[0m\u001b[0;34m(\u001b[0m\u001b[0mket1\u001b[0m\u001b[0;34m)\u001b[0m\u001b[0;34m\u001b[0m\u001b[0;34m\u001b[0m\u001b[0m\n",
      "\u001b[0;32m~/anaconda3/lib/python3.9/site-packages/qiskit/result/result.py\u001b[0m in \u001b[0;36mget_statevector\u001b[0;34m(self, experiment, decimals)\u001b[0m\n\u001b[1;32m    312\u001b[0m         \u001b[0;32mtry\u001b[0m\u001b[0;34m:\u001b[0m\u001b[0;34m\u001b[0m\u001b[0;34m\u001b[0m\u001b[0m\n\u001b[1;32m    313\u001b[0m             return postprocess.format_statevector(\n\u001b[0;32m--> 314\u001b[0;31m                 \u001b[0mself\u001b[0m\u001b[0;34m.\u001b[0m\u001b[0mdata\u001b[0m\u001b[0;34m(\u001b[0m\u001b[0mexperiment\u001b[0m\u001b[0;34m)\u001b[0m\u001b[0;34m[\u001b[0m\u001b[0;34m\"statevector\"\u001b[0m\u001b[0;34m]\u001b[0m\u001b[0;34m,\u001b[0m \u001b[0mdecimals\u001b[0m\u001b[0;34m=\u001b[0m\u001b[0mdecimals\u001b[0m\u001b[0;34m\u001b[0m\u001b[0;34m\u001b[0m\u001b[0m\n\u001b[0m\u001b[1;32m    315\u001b[0m             )\n\u001b[1;32m    316\u001b[0m         \u001b[0;32mexcept\u001b[0m \u001b[0mKeyError\u001b[0m \u001b[0;32mas\u001b[0m \u001b[0mex\u001b[0m\u001b[0;34m:\u001b[0m\u001b[0;34m\u001b[0m\u001b[0;34m\u001b[0m\u001b[0m\n",
      "\u001b[0;32m~/anaconda3/lib/python3.9/site-packages/qiskit/result/result.py\u001b[0m in \u001b[0;36mdata\u001b[0;34m(self, experiment)\u001b[0m\n\u001b[1;32m    185\u001b[0m         \"\"\"\n\u001b[1;32m    186\u001b[0m         \u001b[0;32mtry\u001b[0m\u001b[0;34m:\u001b[0m\u001b[0;34m\u001b[0m\u001b[0;34m\u001b[0m\u001b[0m\n\u001b[0;32m--> 187\u001b[0;31m             \u001b[0;32mreturn\u001b[0m \u001b[0mself\u001b[0m\u001b[0;34m.\u001b[0m\u001b[0m_get_experiment\u001b[0m\u001b[0;34m(\u001b[0m\u001b[0mexperiment\u001b[0m\u001b[0;34m)\u001b[0m\u001b[0;34m.\u001b[0m\u001b[0mdata\u001b[0m\u001b[0;34m.\u001b[0m\u001b[0mto_dict\u001b[0m\u001b[0;34m(\u001b[0m\u001b[0;34m)\u001b[0m\u001b[0;34m\u001b[0m\u001b[0;34m\u001b[0m\u001b[0m\n\u001b[0m\u001b[1;32m    188\u001b[0m         \u001b[0;32mexcept\u001b[0m \u001b[0;34m(\u001b[0m\u001b[0mKeyError\u001b[0m\u001b[0;34m,\u001b[0m \u001b[0mTypeError\u001b[0m\u001b[0;34m)\u001b[0m \u001b[0;32mas\u001b[0m \u001b[0mex\u001b[0m\u001b[0;34m:\u001b[0m\u001b[0;34m\u001b[0m\u001b[0;34m\u001b[0m\u001b[0m\n\u001b[1;32m    189\u001b[0m             \u001b[0;32mraise\u001b[0m \u001b[0mQiskitError\u001b[0m\u001b[0;34m(\u001b[0m\u001b[0;34mf'No data for experiment \"{repr(experiment)}\"'\u001b[0m\u001b[0;34m)\u001b[0m \u001b[0;32mfrom\u001b[0m \u001b[0mex\u001b[0m\u001b[0;34m\u001b[0m\u001b[0;34m\u001b[0m\u001b[0m\n",
      "\u001b[0;32m~/anaconda3/lib/python3.9/site-packages/qiskit/result/result.py\u001b[0m in \u001b[0;36m_get_experiment\u001b[0;34m(self, key)\u001b[0m\n\u001b[1;32m    355\u001b[0m         \u001b[0;32mif\u001b[0m \u001b[0mkey\u001b[0m \u001b[0;32mis\u001b[0m \u001b[0;32mNone\u001b[0m\u001b[0;34m:\u001b[0m\u001b[0;34m\u001b[0m\u001b[0;34m\u001b[0m\u001b[0m\n\u001b[1;32m    356\u001b[0m             \u001b[0;32mif\u001b[0m \u001b[0mlen\u001b[0m\u001b[0;34m(\u001b[0m\u001b[0mself\u001b[0m\u001b[0;34m.\u001b[0m\u001b[0mresults\u001b[0m\u001b[0;34m)\u001b[0m \u001b[0;34m!=\u001b[0m \u001b[0;36m1\u001b[0m\u001b[0;34m:\u001b[0m\u001b[0;34m\u001b[0m\u001b[0;34m\u001b[0m\u001b[0m\n\u001b[0;32m--> 357\u001b[0;31m                 raise QiskitError(\n\u001b[0m\u001b[1;32m    358\u001b[0m                     \u001b[0;34m\"You have to select a circuit or schedule when there is more than one available\"\u001b[0m\u001b[0;34m\u001b[0m\u001b[0;34m\u001b[0m\u001b[0m\n\u001b[1;32m    359\u001b[0m                 )\n",
      "\u001b[0;31mQiskitError\u001b[0m: 'You have to select a circuit or schedule when there is more than one available'"
     ]
    }
   ],
   "source": [
    "from qiskit import ClassicalRegister\n",
    "from qiskit import QuantumRegister\n",
    "qr = QuantumRegister(2)\n",
    "qc=QuantumCircuit(qr)\n",
    "\n",
    "qc.x(1)\n",
    "qc.h(0)\n",
    "qc.h(1)\n",
    "from qiskit import Aer\n",
    "sv_sim = Aer.get_backend('aer_simulator')\n",
    "from qiskit import assemble\n",
    "qc.save_statevector()\n",
    "qobj = assemble(qc)\n",
    "job = sv_sim.run(qobj)\n",
    "ket = job.result().get_statevector()\n",
    "problem.initialize(ket)\n",
    "#qc.append(problem, [qr[0],qr[1] ])\n",
    "problem.h(0)\n",
    "cr = ClassicalRegister(1)\n",
    "\n",
    "problem.add_register(cr)\n",
    "sv_sim = Aer.get_backend('aer_simulator')\n",
    "problem.save_statevector()\n",
    "qobj = assemble(problem)\n",
    "job = sv_sim.run(qobj)\n",
    "ket1 = job.result().get_statevector()\n",
    "qc1=QuantumCircuit(qr)\n",
    "qc1.initialize(ket1)\n",
    "#problem.measure(qr[0],cr[0])\n",
    "problem.draw()\n"
   ]
  },
  {
   "cell_type": "code",
   "execution_count": 8,
   "id": "76c2e5d9",
   "metadata": {},
   "outputs": [
    {
     "name": "stderr",
     "output_type": "stream",
     "text": [
      "Simulation failed and returned the following error message:\n",
      "ERROR:  [Experiment 0] Circuit circuit-86 contains invalid instructions {\"gates\": {circuit-85}} for \"statevector\" method.\n"
     ]
    },
    {
     "ename": "QiskitError",
     "evalue": "'ERROR:  [Experiment 0] Circuit circuit-86 contains invalid instructions {\"gates\": {circuit-85}} for \"statevector\" method. ,  ERROR: Circuit circuit-86 contains invalid instructions {\"gates\": {circuit-85}} for \"statevector\" method.'",
     "output_type": "error",
     "traceback": [
      "\u001b[0;31m---------------------------------------------------------------------------\u001b[0m",
      "\u001b[0;31mQiskitError\u001b[0m                               Traceback (most recent call last)",
      "\u001b[0;32m/tmp/ipykernel_20931/1195473317.py\u001b[0m in \u001b[0;36m<module>\u001b[0;34m\u001b[0m\n\u001b[1;32m      4\u001b[0m \u001b[0mqobj\u001b[0m \u001b[0;34m=\u001b[0m \u001b[0massemble\u001b[0m\u001b[0;34m(\u001b[0m\u001b[0mqc\u001b[0m\u001b[0;34m,\u001b[0m \u001b[0mshots\u001b[0m\u001b[0;34m=\u001b[0m\u001b[0;36m100\u001b[0m\u001b[0;34m)\u001b[0m      \u001b[0;31m##shots is the number of experiments\u001b[0m\u001b[0;34m\u001b[0m\u001b[0;34m\u001b[0m\u001b[0m\n\u001b[1;32m      5\u001b[0m \u001b[0mjob\u001b[0m \u001b[0;34m=\u001b[0m \u001b[0maer_sim\u001b[0m\u001b[0;34m.\u001b[0m\u001b[0mrun\u001b[0m\u001b[0;34m(\u001b[0m\u001b[0mqobj\u001b[0m\u001b[0;34m,\u001b[0m \u001b[0mmemory\u001b[0m\u001b[0;34m=\u001b[0m\u001b[0;32mTrue\u001b[0m\u001b[0;34m)\u001b[0m\u001b[0;34m\u001b[0m\u001b[0;34m\u001b[0m\u001b[0m\n\u001b[0;32m----> 6\u001b[0;31m \u001b[0mhist\u001b[0m \u001b[0;34m=\u001b[0m \u001b[0mjob\u001b[0m\u001b[0;34m.\u001b[0m\u001b[0mresult\u001b[0m\u001b[0;34m(\u001b[0m\u001b[0;34m)\u001b[0m\u001b[0;34m.\u001b[0m\u001b[0mget_counts\u001b[0m\u001b[0;34m(\u001b[0m\u001b[0;34m)\u001b[0m\u001b[0;34m\u001b[0m\u001b[0;34m\u001b[0m\u001b[0m\n\u001b[0m\u001b[1;32m      7\u001b[0m \u001b[0mprint\u001b[0m\u001b[0;34m(\u001b[0m\u001b[0mhist\u001b[0m\u001b[0;34m)\u001b[0m\u001b[0;34m\u001b[0m\u001b[0;34m\u001b[0m\u001b[0m\n",
      "\u001b[0;32m~/anaconda3/lib/python3.9/site-packages/qiskit/result/result.py\u001b[0m in \u001b[0;36mget_counts\u001b[0;34m(self, experiment)\u001b[0m\n\u001b[1;32m    267\u001b[0m         \u001b[0mdict_list\u001b[0m \u001b[0;34m=\u001b[0m \u001b[0;34m[\u001b[0m\u001b[0;34m]\u001b[0m\u001b[0;34m\u001b[0m\u001b[0;34m\u001b[0m\u001b[0m\n\u001b[1;32m    268\u001b[0m         \u001b[0;32mfor\u001b[0m \u001b[0mkey\u001b[0m \u001b[0;32min\u001b[0m \u001b[0mexp_keys\u001b[0m\u001b[0;34m:\u001b[0m\u001b[0;34m\u001b[0m\u001b[0;34m\u001b[0m\u001b[0m\n\u001b[0;32m--> 269\u001b[0;31m             \u001b[0mexp\u001b[0m \u001b[0;34m=\u001b[0m \u001b[0mself\u001b[0m\u001b[0;34m.\u001b[0m\u001b[0m_get_experiment\u001b[0m\u001b[0;34m(\u001b[0m\u001b[0mkey\u001b[0m\u001b[0;34m)\u001b[0m\u001b[0;34m\u001b[0m\u001b[0;34m\u001b[0m\u001b[0m\n\u001b[0m\u001b[1;32m    270\u001b[0m             \u001b[0;32mtry\u001b[0m\u001b[0;34m:\u001b[0m\u001b[0;34m\u001b[0m\u001b[0;34m\u001b[0m\u001b[0m\n\u001b[1;32m    271\u001b[0m                 \u001b[0mheader\u001b[0m \u001b[0;34m=\u001b[0m \u001b[0mexp\u001b[0m\u001b[0;34m.\u001b[0m\u001b[0mheader\u001b[0m\u001b[0;34m.\u001b[0m\u001b[0mto_dict\u001b[0m\u001b[0;34m(\u001b[0m\u001b[0;34m)\u001b[0m\u001b[0;34m\u001b[0m\u001b[0;34m\u001b[0m\u001b[0m\n",
      "\u001b[0;32m~/anaconda3/lib/python3.9/site-packages/qiskit/result/result.py\u001b[0m in \u001b[0;36m_get_experiment\u001b[0;34m(self, key)\u001b[0m\n\u001b[1;32m    395\u001b[0m         \u001b[0mresult_status\u001b[0m \u001b[0;34m=\u001b[0m \u001b[0mgetattr\u001b[0m\u001b[0;34m(\u001b[0m\u001b[0mself\u001b[0m\u001b[0;34m,\u001b[0m \u001b[0;34m\"status\"\u001b[0m\u001b[0;34m,\u001b[0m \u001b[0;34m\"Result was not successful\"\u001b[0m\u001b[0;34m)\u001b[0m\u001b[0;34m\u001b[0m\u001b[0;34m\u001b[0m\u001b[0m\n\u001b[1;32m    396\u001b[0m         \u001b[0mexp_status\u001b[0m \u001b[0;34m=\u001b[0m \u001b[0mgetattr\u001b[0m\u001b[0;34m(\u001b[0m\u001b[0mexp\u001b[0m\u001b[0;34m,\u001b[0m \u001b[0;34m\"status\"\u001b[0m\u001b[0;34m,\u001b[0m \u001b[0;34m\"Experiment was not successful\"\u001b[0m\u001b[0;34m)\u001b[0m\u001b[0;34m\u001b[0m\u001b[0;34m\u001b[0m\u001b[0m\n\u001b[0;32m--> 397\u001b[0;31m         \u001b[0;32mraise\u001b[0m \u001b[0mQiskitError\u001b[0m\u001b[0;34m(\u001b[0m\u001b[0mresult_status\u001b[0m\u001b[0;34m,\u001b[0m \u001b[0;34m\", \"\u001b[0m\u001b[0;34m,\u001b[0m \u001b[0mexp_status\u001b[0m\u001b[0;34m)\u001b[0m\u001b[0;34m\u001b[0m\u001b[0;34m\u001b[0m\u001b[0m\n\u001b[0m",
      "\u001b[0;31mQiskitError\u001b[0m: 'ERROR:  [Experiment 0] Circuit circuit-86 contains invalid instructions {\"gates\": {circuit-85}} for \"statevector\" method. ,  ERROR: Circuit circuit-86 contains invalid instructions {\"gates\": {circuit-85}} for \"statevector\" method.'"
     ]
    }
   ],
   "source": [
    "from qiskit import Aer\n",
    "from qiskit import assemble\n",
    "aer_sim = Aer.get_backend('aer_simulator')\n",
    "qobj = assemble(qc, shots=100)      ##shots is the number of experiments\n",
    "job = aer_sim.run(qobj, memory=True)  \n",
    "hist = job.result().get_counts()\n",
    "print(hist)"
   ]
  },
  {
   "cell_type": "code",
   "execution_count": null,
   "id": "3513bcfa",
   "metadata": {},
   "outputs": [],
   "source": []
  }
 ],
 "metadata": {
  "kernelspec": {
   "display_name": "Python 3 (ipykernel)",
   "language": "python",
   "name": "python3"
  },
  "language_info": {
   "codemirror_mode": {
    "name": "ipython",
    "version": 3
   },
   "file_extension": ".py",
   "mimetype": "text/x-python",
   "name": "python",
   "nbconvert_exporter": "python",
   "pygments_lexer": "ipython3",
   "version": "3.9.13"
  }
 },
 "nbformat": 4,
 "nbformat_minor": 5
}
