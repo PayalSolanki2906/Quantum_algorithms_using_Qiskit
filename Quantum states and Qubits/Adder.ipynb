{
 "cells": [
  {
   "cell_type": "markdown",
   "id": "d69f747d",
   "metadata": {},
   "source": [
    "# ADDER"
   ]
  },
  {
   "cell_type": "markdown",
   "id": "17668e5a",
   "metadata": {},
   "source": [
    "An adder circuit consists of three parts. The first part encodes the input as two qubits (00, 01, 10, or 11). The second part performs a bit operation to add the qubits. The third part extracts the output from the circuit."
   ]
  },
  {
   "cell_type": "code",
   "execution_count": 1,
   "id": "2c5c5931",
   "metadata": {},
   "outputs": [],
   "source": [
    "from qiskit import QuantumCircuit\n",
    "from qiskit.visualization import plot_histogram\n",
    "qc=QuantumCircuit(4,2) ## for adder we need four quantum register and 2 classical register"
   ]
  },
  {
   "cell_type": "markdown",
   "id": "fbde0984",
   "metadata": {},
   "source": [
    "## Quantum circuit for adding 0 and 0"
   ]
  },
  {
   "cell_type": "code",
   "execution_count": 2,
   "id": "58a2f3ed",
   "metadata": {},
   "outputs": [
    {
     "data": {
      "text/html": [
       "<pre style=\"word-wrap: normal;white-space: pre;background: #fff0;line-height: 1.1;font-family: &quot;Courier New&quot;,Courier,monospace\">      ░                 ░       \n",
       "q_0: ─░───■─────────■───░───────\n",
       "      ░   │         │   ░       \n",
       "q_1: ─░───┼────■────■───░───────\n",
       "      ░ ┌─┴─┐┌─┴─┐  │   ░ ┌─┐   \n",
       "q_2: ─░─┤ X ├┤ X ├──┼───░─┤M├───\n",
       "      ░ └───┘└───┘┌─┴─┐ ░ └╥┘┌─┐\n",
       "q_3: ─░───────────┤ X ├─░──╫─┤M├\n",
       "      ░           └───┘ ░  ║ └╥┘\n",
       "c: 2/══════════════════════╩══╩═\n",
       "                           0  1 </pre>"
      ],
      "text/plain": [
       "      ░                 ░       \n",
       "q_0: ─░───■─────────■───░───────\n",
       "      ░   │         │   ░       \n",
       "q_1: ─░───┼────■────■───░───────\n",
       "      ░ ┌─┴─┐┌─┴─┐  │   ░ ┌─┐   \n",
       "q_2: ─░─┤ X ├┤ X ├──┼───░─┤M├───\n",
       "      ░ └───┘└───┘┌─┴─┐ ░ └╥┘┌─┐\n",
       "q_3: ─░───────────┤ X ├─░──╫─┤M├\n",
       "      ░           └───┘ ░  ║ └╥┘\n",
       "c: 2/══════════════════════╩══╩═\n",
       "                           0  1 "
      ]
     },
     "execution_count": 2,
     "metadata": {},
     "output_type": "execute_result"
    }
   ],
   "source": [
    "qc.barrier()\n",
    "# use cnots to write the XOR of the inputs on qubit 2\n",
    "qc.cx(0,2)\n",
    "qc.cx(1,2)\n",
    "qc.ccx(0,1,3)\n",
    "qc.barrier()\n",
    "# extract outputs\n",
    "qc.measure(2,0) # extract XOR value\n",
    "qc.measure(3,1)\n",
    "\n",
    "qc.draw()"
   ]
  },
  {
   "cell_type": "code",
   "execution_count": 3,
   "id": "8c88a4c6",
   "metadata": {},
   "outputs": [
    {
     "ename": "NameError",
     "evalue": "name 'plot_histogram' is not defined",
     "output_type": "error",
     "traceback": [
      "\u001b[0;31m---------------------------------------------------------------------------\u001b[0m",
      "\u001b[0;31mNameError\u001b[0m                                 Traceback (most recent call last)",
      "\u001b[0;32m/tmp/ipykernel_34226/2952588980.py\u001b[0m in \u001b[0;36m<module>\u001b[0;34m\u001b[0m\n\u001b[1;32m      4\u001b[0m \u001b[0mqobj\u001b[0m \u001b[0;34m=\u001b[0m \u001b[0massemble\u001b[0m\u001b[0;34m(\u001b[0m\u001b[0mqc\u001b[0m\u001b[0;34m)\u001b[0m\u001b[0;34m\u001b[0m\u001b[0;34m\u001b[0m\u001b[0m\n\u001b[1;32m      5\u001b[0m \u001b[0mcounts\u001b[0m \u001b[0;34m=\u001b[0m \u001b[0msim\u001b[0m\u001b[0;34m.\u001b[0m\u001b[0mrun\u001b[0m\u001b[0;34m(\u001b[0m\u001b[0mqobj\u001b[0m\u001b[0;34m)\u001b[0m\u001b[0;34m.\u001b[0m\u001b[0mresult\u001b[0m\u001b[0;34m(\u001b[0m\u001b[0;34m)\u001b[0m\u001b[0;34m.\u001b[0m\u001b[0mget_counts\u001b[0m\u001b[0;34m(\u001b[0m\u001b[0;34m)\u001b[0m\u001b[0;34m\u001b[0m\u001b[0;34m\u001b[0m\u001b[0m\n\u001b[0;32m----> 6\u001b[0;31m \u001b[0mplot_histogram\u001b[0m\u001b[0;34m(\u001b[0m\u001b[0mcounts\u001b[0m\u001b[0;34m)\u001b[0m\u001b[0;34m\u001b[0m\u001b[0;34m\u001b[0m\u001b[0m\n\u001b[0m",
      "\u001b[0;31mNameError\u001b[0m: name 'plot_histogram' is not defined"
     ]
    }
   ],
   "source": [
    "from qiskit import Aer\n",
    "sim = Aer.get_backend('aer_simulator') \n",
    "from qiskit import assemble     \n",
    "qobj = assemble(qc)\n",
    "counts = sim.run(qobj).result().get_counts()\n",
    "plot_histogram(counts)"
   ]
  },
  {
   "cell_type": "markdown",
   "id": "442c49d1",
   "metadata": {},
   "source": [
    "## Quantum circuit for adding 0 and 1"
   ]
  },
  {
   "cell_type": "code",
   "execution_count": null,
   "id": "d6043adf",
   "metadata": {},
   "outputs": [],
   "source": [
    "from qiskit import QuantumCircuit\n",
    "qc1=QuantumCircuit(4,2) ## for adder we need four quantum register and 2 classical register"
   ]
  },
  {
   "cell_type": "code",
   "execution_count": null,
   "id": "c8bb9643",
   "metadata": {},
   "outputs": [],
   "source": [
    "qc1.x(1)\n",
    "qc1.barrier()\n",
    "# use cnots to write the XOR of the inputs on qubit 2\n",
    "qc1.cx(0,2)\n",
    "qc1.cx(1,2)\n",
    "qc1.ccx(0,1,3)\n",
    "qc1.barrier()\n",
    "# extract outputs\n",
    "qc1.measure(2,0) # extract XOR value\n",
    "qc1.measure(3,1)\n",
    "\n",
    "qc1.draw()"
   ]
  },
  {
   "cell_type": "code",
   "execution_count": null,
   "id": "8c0b6406",
   "metadata": {},
   "outputs": [],
   "source": [
    "from qiskit import Aer\n",
    "sim = Aer.get_backend('aer_simulator') \n",
    "from qiskit import assemble     \n",
    "qobj = assemble(qc1)\n",
    "counts = sim.run(qobj).result().get_counts()\n",
    "plot_histogram(counts)"
   ]
  },
  {
   "cell_type": "markdown",
   "id": "c6d3ab2c",
   "metadata": {},
   "source": [
    "## Quantum circuit for adding 1 and 0"
   ]
  },
  {
   "cell_type": "code",
   "execution_count": null,
   "id": "d178ebe4",
   "metadata": {},
   "outputs": [],
   "source": [
    "from qiskit import QuantumCircuit\n",
    "qc2=QuantumCircuit(4,2) ## for adder we need four quantum register and 2 classical register"
   ]
  },
  {
   "cell_type": "code",
   "execution_count": null,
   "id": "4044af4e",
   "metadata": {},
   "outputs": [],
   "source": [
    "qc2.x(0)\n",
    "qc2.barrier()\n",
    "# use cnots to write the XOR of the inputs on qubit 2\n",
    "qc2.cx(0,2)\n",
    "qc2.cx(1,2)\n",
    "qc2.ccx(0,1,3)\n",
    "qc2.barrier()\n",
    "# extract outputs\n",
    "qc2.measure(2,0) # extract XOR value\n",
    "qc2.measure(3,1)\n",
    "\n",
    "qc2.draw()"
   ]
  },
  {
   "cell_type": "code",
   "execution_count": null,
   "id": "1be5c2dc",
   "metadata": {},
   "outputs": [],
   "source": [
    "from qiskit import Aer\n",
    "sim = Aer.get_backend('aer_simulator') \n",
    "from qiskit import assemble     \n",
    "qobj = assemble(qc2)\n",
    "counts = sim.run(qobj).result().get_counts()\n",
    "plot_histogram(counts)"
   ]
  },
  {
   "cell_type": "markdown",
   "id": "73dac3a6",
   "metadata": {},
   "source": [
    "## Quantum circuit for adding 1 and 1"
   ]
  },
  {
   "cell_type": "code",
   "execution_count": null,
   "id": "15ad6394",
   "metadata": {},
   "outputs": [],
   "source": [
    "from qiskit import QuantumCircuit\n",
    "qc3=QuantumCircuit(4,2) ## for adder we need four quantum register and 2 classical register"
   ]
  },
  {
   "cell_type": "code",
   "execution_count": null,
   "id": "413c6e64",
   "metadata": {},
   "outputs": [],
   "source": [
    "qc3.x(0)\n",
    "qc3.x(1)\n",
    "qc3.barrier()\n",
    "# use cnots to write the XOR of the inputs on qubit 2\n",
    "qc3.cx(0,2)\n",
    "qc3.cx(1,2)\n",
    "qc3.ccx(0,1,3)\n",
    "qc3.barrier()\n",
    "# extract outputs\n",
    "qc3.measure(2,0) # extract XOR value\n",
    "qc3.measure(3,1)\n",
    "\n",
    "qc3.draw()"
   ]
  },
  {
   "cell_type": "code",
   "execution_count": null,
   "id": "e620f158",
   "metadata": {},
   "outputs": [],
   "source": [
    "from qiskit import Aer\n",
    "sim = Aer.get_backend('aer_simulator') \n",
    "from qiskit import assemble     \n",
    "qobj = assemble(qc3)\n",
    "counts = sim.run(qobj).result().get_counts()\n",
    "plot_histogram(counts)"
   ]
  },
  {
   "cell_type": "code",
   "execution_count": null,
   "id": "6b038155",
   "metadata": {},
   "outputs": [],
   "source": []
  }
 ],
 "metadata": {
  "kernelspec": {
   "display_name": "Python 3 (ipykernel)",
   "language": "python",
   "name": "python3"
  },
  "language_info": {
   "codemirror_mode": {
    "name": "ipython",
    "version": 3
   },
   "file_extension": ".py",
   "mimetype": "text/x-python",
   "name": "python",
   "nbconvert_exporter": "python",
   "pygments_lexer": "ipython3",
   "version": "3.9.13"
  }
 },
 "nbformat": 4,
 "nbformat_minor": 5
}
